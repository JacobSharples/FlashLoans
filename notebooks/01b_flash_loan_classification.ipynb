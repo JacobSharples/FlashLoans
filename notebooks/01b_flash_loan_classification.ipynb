{
 "cells": [
  {
   "cell_type": "markdown",
   "metadata": {},
   "source": [
    "# 02a - Flash Loan Classification\n",
    "Classify flash loans based on their purpose. Reads in the tx hash from the flash loan event file.\n",
    "\n",
    "Workflow:\n",
    "* Input - Takes the existing flash loan events from 01a\n",
    "* Output - Creates two additional tables\n",
    "    * tx_info - metadata info\n",
    "    * logs - all log data related to the transaction"
   ]
  },
  {
   "cell_type": "code",
   "execution_count": 174,
   "metadata": {},
   "outputs": [],
   "source": [
    "import pandas as pd\n",
    "from web3 import Web3, HTTPProvider\n",
    "import ctc\n",
    "import os\n",
    "from tqdm.notebook import tqdm"
   ]
  },
  {
   "cell_type": "code",
   "execution_count": 126,
   "metadata": {},
   "outputs": [],
   "source": [
    "ETH_RPC_URL = os.getenv(\"WEB3_PROVIDER_URI\")\n",
    "w3 = Web3(HTTPProvider(ETH_RPC_URL))"
   ]
  },
  {
   "cell_type": "code",
   "execution_count": 208,
   "metadata": {},
   "outputs": [],
   "source": [
    "def get_tx_metadata(tx_info) -> pd.DataFrame:\n",
    "    '''\n",
    "    Cleans the transaction metadata from the transaction_receipt API and returns a dataframe row.\n",
    "    ----------\n",
    "    \n",
    "    Params:\n",
    "        tx_info, dict:\n",
    "        \n",
    "    ----------\n",
    "    Returns:\n",
    "        dataframe\n",
    "    \n",
    "    '''\n",
    "    return (\n",
    "        pd.DataFrame(tx_info)\n",
    "        .head(n=1)\n",
    "        [['blockHash', 'transactionHash', 'blockNumber', 'contractAddress', 'gasUsed', 'cumulativeGasUsed', 'effectiveGasPrice', 'from', 'to', 'status', 'transactionIndex', 'type']]\n",
    "        .assign(\n",
    "                transactionHash = lambda x: x.transactionHash.apply(lambda x: x.hex()),\n",
    "                blockHash = lambda x: x.blockHash.apply(lambda x: x.hex())\n",
    "            ) \n",
    "    )\n",
    "    \n",
    "def get_log_data(tx_info) -> pd.DataFrame:\n",
    "    '''\n",
    "    Cleans the log data from the transaction_receipt API and returns a dataframe row.\n",
    "    ----------\n",
    "    \n",
    "    Params:\n",
    "        tx_info, dict:\n",
    "        \n",
    "    ----------\n",
    "    Returns:\n",
    "        dataframe\n",
    "    \n",
    "    '''\n",
    "    return (\n",
    "        pd.DataFrame(tx_info['logs'])\n",
    "        .drop(columns=['transactionIndex', 'blockHash'])\n",
    "        .assign(\n",
    "                data = lambda x: x.data.apply(lambda x: x.hex()),\n",
    "                transactionHash = lambda x: x.transactionHash.apply(lambda x: x.hex())\n",
    "        )  \n",
    "    )"
   ]
  },
  {
   "cell_type": "markdown",
   "metadata": {},
   "source": [
    "# Ethereum Data"
   ]
  },
  {
   "cell_type": "code",
   "execution_count": 209,
   "metadata": {},
   "outputs": [],
   "source": [
    "df_ethereum = pd.read_parquet(\"../data/flash_loans/ethereum_aave_v3_flash_loans.parquet\")"
   ]
  },
  {
   "cell_type": "code",
   "execution_count": 210,
   "metadata": {},
   "outputs": [
    {
     "data": {
      "application/vnd.jupyter.widget-view+json": {
       "model_id": "5b63910c08d443e3af5833ac947ad070",
       "version_major": 2,
       "version_minor": 0
      },
      "text/plain": [
       "  0%|          | 0/8836 [00:00<?, ?it/s]"
      ]
     },
     "metadata": {},
     "output_type": "display_data"
    }
   ],
   "source": [
    "log_data = pd.DataFrame()\n",
    "tx_metadata = pd.DataFrame()\n",
    "\n",
    "# Iterate through each tx_hash and concat the log and metadata information to seperate dataframes\n",
    "for tx_hash in tqdm(df_ethereum['evt_tx_hash'].unique()):\n",
    "    tx_info = dict(w3.eth.get_transaction_receipt(tx_hash))\n",
    "\n",
    "    log_data = pd.concat([log_data, get_log_data(tx_info)])\n",
    "    tx_metadata = pd.concat([tx_metadata, get_tx_metadata(tx_info)], ignore_index=True)"
   ]
  },
  {
   "cell_type": "code",
   "execution_count": 211,
   "metadata": {},
   "outputs": [],
   "source": [
    "tx_metadata.to_parquet(\"../data/tx_data/ethereum_tx_metadata.parquet\")"
   ]
  },
  {
   "cell_type": "code",
   "execution_count": 212,
   "metadata": {},
   "outputs": [],
   "source": [
    "log_data.to_parquet(\"../data/tx_data/ethereum_tx_logs.parquet\")"
   ]
  },
  {
   "cell_type": "code",
   "execution_count": null,
   "metadata": {},
   "outputs": [],
   "source": [
    "address_book = {\n",
    "    '0x87870Bca3F3fD6335C3F4ce8392D69350B4fA4E2': 'Aave V3',\n",
    "    '0x8761e0370f94f68Db8EaA731f4fC581f6AD0Bd68': 'Debt Swapper for Aave V3',\n",
    "    '0xB748952c7BC638F31775245964707Bcc5DDFabFC': 'Aave Migration Helper',\n",
    "    '0x8f30ADaA6950b31f675bF8a709Bc23F55aa24735': 'Debt Swapper for Aave V3',\n",
    "    '0x1809f186D680f239420B56948C58F8DbbCdf1E18': 'Repay for Aave V3',\n",
    "    '0x872fBcb1B582e8Cd0D0DD4327fBFa0B4C2730995': 'Collateral Swapper for Aave V3',\n",
    "    '0x9901bAC880cAecAd999e292811DB9C1Db3e86F8a': 'Furucombo',\n",
    "    '0x036c4567dB47CD840dE37e7e8658b0bB3ae95d40': 'Liquis',\n",
    "    '0x775C559D9A48cE5a8444C1035C3a8921ab477b8e': 'MEV Bot',\n",
    "    '0x252025dF8680C275D0bA80D084e5967D8BD26caf': 'DeFi Saver'\n",
    "}"
   ]
  },
  {
   "cell_type": "code",
   "execution_count": 262,
   "metadata": {},
   "outputs": [
    {
     "name": "stdout",
     "output_type": "stream",
     "text": [
      "fetching mainnet abi from etherscan: 0xA0b86991c6218b36c1d19D4a2e9Eb0cE3606eB48\n",
      "etherscan ratelimit hit, sleeping for 4.605483770370483 seconds\n",
      "fetching mainnet abi from etherscan: 0x43506849d7c04f9138d1a2050bbf3a0c054402dd\n"
     ]
    }
   ],
   "source": [
    "contract_abi = await ctc.async_get_contract_abi(\n",
    "        contract_address='0xA0b86991c6218b36c1d19D4a2e9Eb0cE3606eB48'\n",
    "    )"
   ]
  },
  {
   "cell_type": "code",
   "execution_count": 285,
   "metadata": {},
   "outputs": [
    {
     "data": {
      "text/plain": [
       "{'anonymous': False,\n",
       " 'inputs': [{'indexed': True,\n",
       "   'internalType': 'address',\n",
       "   'name': 'from',\n",
       "   'type': 'address'},\n",
       "  {'indexed': True,\n",
       "   'internalType': 'address',\n",
       "   'name': 'to',\n",
       "   'type': 'address'},\n",
       "  {'indexed': False,\n",
       "   'internalType': 'uint256',\n",
       "   'name': 'value',\n",
       "   'type': 'uint256'}],\n",
       " 'name': 'Transfer',\n",
       " 'type': 'event'}"
      ]
     },
     "execution_count": 285,
     "metadata": {},
     "output_type": "execute_result"
    }
   ],
   "source": [
    "contract_abi[21]"
   ]
  },
  {
   "cell_type": "markdown",
   "metadata": {},
   "source": [
    "What is contained in the transaction metadata?"
   ]
  },
  {
   "cell_type": "code",
   "execution_count": 260,
   "metadata": {},
   "outputs": [
    {
     "data": {
      "text/plain": [
       "blockHash            0x23a0fa510c09244b3c8f08521373e49fc34ac7ed3728...\n",
       "transactionHash      0x625ed737a7a97875f7707bb76a7f4075b96709c70d79...\n",
       "blockNumber                                                   18709117\n",
       "contractAddress                                                   None\n",
       "gasUsed                                                        1470387\n",
       "cumulativeGasUsed                                             15525360\n",
       "effectiveGasPrice                                          40987012669\n",
       "from                        0x9fBa5259A1a4654212849E87CFdf5B28d5bbcB5e\n",
       "to                          0xa6a147946FACAc9E0B99824870B36088764f969F\n",
       "status                                                               1\n",
       "transactionIndex                                                    91\n",
       "type                                                                 2\n",
       "Name: 0, dtype: object"
      ]
     },
     "execution_count": 260,
     "metadata": {},
     "output_type": "execute_result"
    }
   ],
   "source": [
    "example_tx = tx_metadata.iloc[0].copy()\n",
    "example_tx"
   ]
  },
  {
   "cell_type": "markdown",
   "metadata": {},
   "source": [
    "What is contained in the log data?"
   ]
  },
  {
   "cell_type": "code",
   "execution_count": 261,
   "metadata": {},
   "outputs": [
    {
     "name": "stdout",
     "output_type": "stream",
     "text": [
      "Transaction hash: 0x625ed737a7a97875f7707bb76a7f4075b96709c70d79334d42e0e3c4eed9d7f0\n",
      "Block: 18709117 at index: 300\n",
      "Address: 0xA0b86991c6218b36c1d19D4a2e9Eb0cE3606eB48\n",
      "Topics:\n",
      "\tTopic 0: 0xddf252ad1be2c89b69c2b068fc378daa952ba7f163c4a11628f55a4df523b3ef\n",
      "\tTopic 1: 0x0000000000000000000000009fba5259a1a4654212849e87cfdf5b28d5bbcb5e\n",
      "\tTopic 2: 0x0000000000000000000000003f37c7d8e61c000085aac0515775b06a3412f36b\n",
      "Data: 0x0000000000000000000000000000000000000000000000000000000d85bd346f\n"
     ]
    }
   ],
   "source": [
    "# Take the first event in the file\n",
    "example_event = log_data.iloc[0].copy()\n",
    "\n",
    "# List relevant info\n",
    "print(f\"Transaction hash: {example_event['transactionHash']}\")\n",
    "print(f\"Block: {example_event['blockNumber']} at index: {example_event['logIndex']}\")\n",
    "print(f\"Address: {example_event['address']}\")\n",
    "print(f\"Topics:\")\n",
    "print(f\"\\tTopic 0: {example_event['topics'][0].hex()}\")\n",
    "print(f\"\\tTopic 1: {example_event['topics'][1].hex()}\")\n",
    "print(f\"\\tTopic 2: {example_event['topics'][2].hex()}\")\n",
    "print(f\"Data: {example_event['data']}\")"
   ]
  },
  {
   "cell_type": "markdown",
   "metadata": {},
   "source": [
    "Given ABI information, you can decode this as a USDC Transfer event. Topic 0 contains the Bytes signature (0xddf252ad) which corresponds to the text signature: Transfer(address,address,uint256)\n",
    "* Sender (Topic 1): 0x9fba5259a1a4654212849e87cfdf5b28d5bbcb5e\n",
    "* Receiver (Topic 2): 0x3f37c7d8e61c000085aac0515775b06a3412f36b\n",
    "* Amount (Data): 58078344303 (USDC uses 6 decimals)"
   ]
  },
  {
   "cell_type": "code",
   "execution_count": 255,
   "metadata": {},
   "outputs": [
    {
     "data": {
      "text/plain": [
       "58078.344303"
      ]
     },
     "execution_count": 255,
     "metadata": {},
     "output_type": "execute_result"
    }
   ],
   "source": [
    "58078344303/(10**6)"
   ]
  }
 ],
 "metadata": {
  "kernelspec": {
   "display_name": "crypto",
   "language": "python",
   "name": "python3"
  },
  "language_info": {
   "codemirror_mode": {
    "name": "ipython",
    "version": 3
   },
   "file_extension": ".py",
   "mimetype": "text/x-python",
   "name": "python",
   "nbconvert_exporter": "python",
   "pygments_lexer": "ipython3",
   "version": "3.11.8"
  }
 },
 "nbformat": 4,
 "nbformat_minor": 2
}
